{
 "cells": [
  {
   "cell_type": "markdown",
   "id": "1ed225a8-5ea1-4457-9d5a-a0729a8abecc",
   "metadata": {},
   "source": [
    "## Variables"
   ]
  },
  {
   "cell_type": "code",
   "execution_count": 2,
   "id": "28ddc850-993c-47da-9d2d-3ab1615e02bc",
   "metadata": {},
   "outputs": [],
   "source": [
    "Name = \"Ahmad\"\n"
   ]
  },
  {
   "cell_type": "code",
   "execution_count": 3,
   "id": "c60d1ab4-4e38-4a88-9ed4-1d57e28dcc36",
   "metadata": {},
   "outputs": [
    {
     "data": {
      "text/plain": [
       "'Ahmad'"
      ]
     },
     "execution_count": 3,
     "metadata": {},
     "output_type": "execute_result"
    }
   ],
   "source": [
    "Name"
   ]
  },
  {
   "cell_type": "code",
   "execution_count": 6,
   "id": "08f0a077-da3b-41af-81a2-1a2a9456497b",
   "metadata": {},
   "outputs": [],
   "source": [
    "Age = \"20\""
   ]
  },
  {
   "cell_type": "code",
   "execution_count": 7,
   "id": "e819618f-be40-496e-ac9d-b38bfd68d340",
   "metadata": {},
   "outputs": [
    {
     "data": {
      "text/plain": [
       "'20'"
      ]
     },
     "execution_count": 7,
     "metadata": {},
     "output_type": "execute_result"
    }
   ],
   "source": [
    "Age"
   ]
  },
  {
   "cell_type": "code",
   "execution_count": 13,
   "id": "4bea86c1-7556-4d77-be85-bfeb4792959b",
   "metadata": {},
   "outputs": [
    {
     "name": "stdout",
     "output_type": "stream",
     "text": [
      "<class 'str'>\n"
     ]
    }
   ],
   "source": [
    "Weight = \"20\"\n",
    "print(type(Weight))"
   ]
  },
  {
   "cell_type": "code",
   "execution_count": 14,
   "id": "36b93461-de02-4a18-9f42-50c802483926",
   "metadata": {},
   "outputs": [
    {
     "data": {
      "text/plain": [
       "'20'"
      ]
     },
     "execution_count": 14,
     "metadata": {},
     "output_type": "execute_result"
    }
   ],
   "source": [
    "Weight"
   ]
  },
  {
   "cell_type": "code",
   "execution_count": 15,
   "id": "3031e419-64cd-4137-b7ae-74a95253e2c0",
   "metadata": {},
   "outputs": [
    {
     "name": "stdout",
     "output_type": "stream",
     "text": [
      "<class 'str'>\n"
     ]
    }
   ],
   "source": [
    "print(type(Age))"
   ]
  },
  {
   "cell_type": "markdown",
   "id": "9d7a64a6-4713-41e1-87ea-540c54395a9e",
   "metadata": {},
   "source": [
    "## Expressions"
   ]
  },
  {
   "cell_type": "code",
   "execution_count": null,
   "id": "36f13f69-288e-4882-b4eb-78215efd80a4",
   "metadata": {},
   "outputs": [],
   "source": [
    "= (2-3)-(4-3)-4/5\n",
    "=  1-1-4/5 --> solveP\n",
    "= -1-1-0.8 --->solve D\n",
    "= 2.8 --> solveA\n"
   ]
  },
  {
   "cell_type": "code",
   "execution_count": null,
   "id": "42a993f6-1544-444f-ae9e-116323ad9e43",
   "metadata": {},
   "outputs": [],
   "source": [
    "PEMDAS"
   ]
  },
  {
   "cell_type": "markdown",
   "id": "46a13df7-5acb-4acb-bff6-f2b00d51bd25",
   "metadata": {},
   "source": [
    "## Advanced Operatos"
   ]
  },
  {
   "cell_type": "markdown",
   "id": "07ba9019-69a3-4614-8c2d-10ef62d5edb9",
   "metadata": {},
   "source": [
    "-"
   ]
  },
  {
   "cell_type": "code",
   "execution_count": 18,
   "id": "4fadc8fc-c802-444f-9e06-7f73712707a4",
   "metadata": {},
   "outputs": [
    {
     "data": {
      "text/plain": [
       "True"
      ]
     },
     "execution_count": 18,
     "metadata": {},
     "output_type": "execute_result"
    }
   ],
   "source": [
    "5>2"
   ]
  },
  {
   "cell_type": "code",
   "execution_count": 19,
   "id": "9811fa0c-80ec-4c54-856f-e85a1b823c31",
   "metadata": {},
   "outputs": [
    {
     "data": {
      "text/plain": [
       "True"
      ]
     },
     "execution_count": 19,
     "metadata": {},
     "output_type": "execute_result"
    }
   ],
   "source": [
    "5<7"
   ]
  },
  {
   "cell_type": "code",
   "execution_count": 20,
   "id": "2bbc74cb-2976-40f5-940c-ec68d0817681",
   "metadata": {},
   "outputs": [
    {
     "data": {
      "text/plain": [
       "False"
      ]
     },
     "execution_count": 20,
     "metadata": {},
     "output_type": "execute_result"
    }
   ],
   "source": [
    "5<2"
   ]
  },
  {
   "cell_type": "code",
   "execution_count": 21,
   "id": "c0e6e814-8602-484c-b831-926981eda742",
   "metadata": {},
   "outputs": [
    {
     "data": {
      "text/plain": [
       "False"
      ]
     },
     "execution_count": 21,
     "metadata": {},
     "output_type": "execute_result"
    }
   ],
   "source": [
    "9<5"
   ]
  },
  {
   "cell_type": "code",
   "execution_count": 22,
   "id": "690cac13-aa01-4508-99ff-a480853822c9",
   "metadata": {},
   "outputs": [
    {
     "data": {
      "text/plain": [
       "True"
      ]
     },
     "execution_count": 22,
     "metadata": {},
     "output_type": "execute_result"
    }
   ],
   "source": [
    "5==5"
   ]
  },
  {
   "cell_type": "code",
   "execution_count": 24,
   "id": "07e02ced-abc5-47b3-9c22-95992ef5f1d2",
   "metadata": {},
   "outputs": [
    {
     "data": {
      "text/plain": [
       "True"
      ]
     },
     "execution_count": 24,
     "metadata": {},
     "output_type": "execute_result"
    }
   ],
   "source": [
    "5>=5"
   ]
  },
  {
   "cell_type": "code",
   "execution_count": 25,
   "id": "79594fd7-e6fd-44e2-a90e-3668c7c15892",
   "metadata": {},
   "outputs": [
    {
     "data": {
      "text/plain": [
       "False"
      ]
     },
     "execution_count": 25,
     "metadata": {},
     "output_type": "execute_result"
    }
   ],
   "source": [
    "5>=7"
   ]
  },
  {
   "cell_type": "code",
   "execution_count": 26,
   "id": "66036e3e-b358-4e92-adb0-8ae82b473362",
   "metadata": {},
   "outputs": [
    {
     "data": {
      "text/plain": [
       "True"
      ]
     },
     "execution_count": 26,
     "metadata": {},
     "output_type": "execute_result"
    }
   ],
   "source": [
    "5<=6"
   ]
  },
  {
   "cell_type": "code",
   "execution_count": 28,
   "id": "ff5a4057-18d9-41d9-a584-c65c5657b60c",
   "metadata": {},
   "outputs": [
    {
     "data": {
      "text/plain": [
       "False"
      ]
     },
     "execution_count": 28,
     "metadata": {},
     "output_type": "execute_result"
    }
   ],
   "source": [
    "1!=1"
   ]
  },
  {
   "cell_type": "code",
   "execution_count": 29,
   "id": "0217bddf-beae-412d-bd0e-a44cb0d59de5",
   "metadata": {},
   "outputs": [
    {
     "data": {
      "text/plain": [
       "True"
      ]
     },
     "execution_count": 29,
     "metadata": {},
     "output_type": "execute_result"
    }
   ],
   "source": [
    "2!=1"
   ]
  },
  {
   "cell_type": "code",
   "execution_count": null,
   "id": "f79f3cc2-62b7-4988-ba9b-8437f184bed6",
   "metadata": {},
   "outputs": [],
   "source": []
  },
  {
   "cell_type": "code",
   "execution_count": null,
   "id": "5232093f-e54e-4076-8600-9e764735d331",
   "metadata": {},
   "outputs": [],
   "source": []
  }
 ],
 "metadata": {
  "kernelspec": {
   "display_name": "Python [conda env:base] *",
   "language": "python",
   "name": "conda-base-py"
  },
  "language_info": {
   "codemirror_mode": {
    "name": "ipython",
    "version": 3
   },
   "file_extension": ".py",
   "mimetype": "text/x-python",
   "name": "python",
   "nbconvert_exporter": "python",
   "pygments_lexer": "ipython3",
   "version": "3.13.5"
  }
 },
 "nbformat": 4,
 "nbformat_minor": 5
}
